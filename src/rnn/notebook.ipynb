{
  "nbformat": 4,
  "nbformat_minor": 0,
  "metadata": {
    "colab": {
      "name": "csc412-rnn.ipynb",
      "provenance": [],
      "collapsed_sections": [],
      "authorship_tag": "ABX9TyMQpjnvMaSURaNePKnO+5m4",
      "include_colab_link": true
    },
    "kernelspec": {
      "name": "python3",
      "display_name": "Python 3"
    },
    "language_info": {
      "name": "python"
    },
    "accelerator": "GPU"
  },
  "cells": [
    {
      "cell_type": "markdown",
      "metadata": {
        "id": "view-in-github",
        "colab_type": "text"
      },
      "source": [
        "<a href=\"https://colab.research.google.com/github/davidweitzenfeld/neural-net-music-gen/blob/master/src/rnn/notebook.ipynb\" target=\"_parent\"><img src=\"https://colab.research.google.com/assets/colab-badge.svg\" alt=\"Open In Colab\"/></a>"
      ]
    },
    {
      "cell_type": "markdown",
      "metadata": {
        "id": "Ybk44Bs9PzG0"
      },
      "source": [
        "# 🎶 Generation of Music Based on Artists' Styles using Attention-Based and Long Short-Term Memory Neural Nets\n",
        "\n",
        "A Python Notebook for https://github.com/davidweitzenfeld/neural-net-music-gen."
      ]
    },
    {
      "cell_type": "markdown",
      "metadata": {
        "id": "Tfhpqv1BNfZR"
      },
      "source": [
        "## 1. Clone the Git repository.\n",
        "\n",
        "We first clone the Git repository containing all the code."
      ]
    },
    {
      "cell_type": "code",
      "metadata": {
        "id": "--FyJJPUEFMI"
      },
      "source": [
        "!git clone https://github.com/davidweitzenfeld/neural-net-music-gen"
      ],
      "execution_count": null,
      "outputs": []
    },
    {
      "cell_type": "markdown",
      "metadata": {
        "id": "T8Pipj-MNtAq"
      },
      "source": [
        "We also may need some of these commands below to manage and update the clone of the repository."
      ]
    },
    {
      "cell_type": "code",
      "metadata": {
        "id": "AdS2csZRbw2Q"
      },
      "source": [
        "!rm -r neural-net-music-gen"
      ],
      "execution_count": 45,
      "outputs": []
    },
    {
      "cell_type": "code",
      "metadata": {
        "id": "DDTQYk0mSqIp"
      },
      "source": [
        "!(cd neural-net-music-gen && git log)"
      ],
      "execution_count": null,
      "outputs": []
    },
    {
      "cell_type": "code",
      "metadata": {
        "id": "Bn_S0JKzbbKj"
      },
      "source": [
        "!(cd neural-net-music-gen && git pull)"
      ],
      "execution_count": null,
      "outputs": []
    },
    {
      "cell_type": "code",
      "metadata": {
        "id": "PyDjDrcLS48l"
      },
      "source": [
        "!(cd neural-net-music-gen && git fetch --all && git reset --hard origin/master)"
      ],
      "execution_count": null,
      "outputs": []
    },
    {
      "cell_type": "markdown",
      "metadata": {
        "id": "JJaEfhs4N5H2"
      },
      "source": [
        "## 2. Install and update to the required Python packages."
      ]
    },
    {
      "cell_type": "code",
      "metadata": {
        "id": "W24JC_fEEyWA"
      },
      "source": [
        "!(cd neural-net-music-gen && pip3 install -r requirements.colab.txt)"
      ],
      "execution_count": null,
      "outputs": []
    },
    {
      "cell_type": "markdown",
      "metadata": {
        "id": "U8DfEVzKODW8"
      },
      "source": [
        "## 3. Download the processed data necessary for training."
      ]
    },
    {
      "cell_type": "code",
      "metadata": {
        "id": "zRbIGx5XELKH"
      },
      "source": [
        "!(cd neural-net-music-gen && python3 data/download.py --datasets maestro maestro-notes-pl)"
      ],
      "execution_count": null,
      "outputs": []
    },
    {
      "cell_type": "markdown",
      "metadata": {
        "id": "zloJ9R-jOJwm"
      },
      "source": [
        "## 4. Train the model with the desired parameters.\n",
        "\n",
        "All parameters have defaults and may be omitted. After training is complete, the weights are stored in `neural-net-music-gen/weights/rnn` and can be downloaded for local use, or used to generate melodies here.\n",
        "\n",
        "To download, open \"Files\" in the left panel, then navigate the to the weight files and press the three dots to the right of the file to download it. Both the `*****.weights.hdf5` and `*****.config.json` files are necessary for melody generation."
      ]
    },
    {
      "cell_type": "code",
      "metadata": {
        "id": "LF9mGTsDFO8r"
      },
      "source": [
        "!(cd neural-net-music-gen/ && PYTHONPATH=src python3 src/rnn/train.py --seq_len 200 --batch_size 32 --epoch_count=50 --artist \"Wolfgang Amadeus Mozart\")"
      ],
      "execution_count": null,
      "outputs": []
    },
    {
      "cell_type": "markdown",
      "metadata": {
        "id": "s_icMgYTOjIq"
      },
      "source": [
        "## 5. Generate melodies from the trained models.\n",
        "\n",
        "This can be done relatively quickly locally too.\n",
        "\n",
        "The training ID is the randomly-generated first five characters (lowercase ASCII) of the weights and config file names."
      ]
    },
    {
      "cell_type": "code",
      "metadata": {
        "id": "AIqMSv73PYda"
      },
      "source": [
        "!(cd neural-net-music-gen/ && PYTHONPATH=src python3 src/rnn/generate.py --training_id ***** --seq_len 150 --name \"sample\")"
      ],
      "execution_count": null,
      "outputs": []
    }
  ]
}